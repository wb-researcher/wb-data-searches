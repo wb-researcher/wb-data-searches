{
 "cells": [
  {
   "cell_type": "code",
   "execution_count": 19,
   "metadata": {},
   "outputs": [
    {
     "name": "stdout",
     "output_type": "stream",
     "text": [
      "wb запросы старое-2/week/requests (1).csv\n",
      "wb запросы старое-2/week/requests (12).csv\n",
      "wb запросы старое-2/week/requests (15).csv\n",
      "wb запросы старое-2/week/requests (18).csv\n",
      "wb запросы старое-2/week/requests (21).csv\n",
      "wb запросы старое-2/week/requests (24).csv\n",
      "wb запросы старое-2/week/requests (27).csv\n",
      "wb запросы старое-2/week/requests (3).csv\n",
      "wb запросы старое-2/week/requests (30).csv\n",
      "wb запросы старое-2/week/requests (6).csv\n",
      "wb запросы старое-2/week/requests (9).csv\n",
      "wb запросы старое-2/month/requests (1).csv\n",
      "wb запросы старое-2/month/requests (10).csv\n",
      "wb запросы старое-2/month/requests (13).csv\n",
      "wb запросы старое-2/month/requests (16).csv\n",
      "wb запросы старое-2/month/requests (19).csv\n",
      "wb запросы старое-2/month/requests (22).csv\n",
      "wb запросы старое-2/month/requests (25).csv\n",
      "wb запросы старое-2/month/requests (28).csv\n",
      "wb запросы старое-2/month/requests (31).csv\n",
      "wb запросы старое-2/month/requests (4).csv\n",
      "wb запросы старое-2/month/requests (7).csv\n",
      "wb запросы старое-2/3month/requests (11).csv\n",
      "wb запросы старое-2/3month/requests (14).csv\n",
      "wb запросы старое-2/3month/requests (17).csv\n",
      "wb запросы старое-2/3month/requests (2).csv\n",
      "wb запросы старое-2/3month/requests (20).csv\n",
      "wb запросы старое-2/3month/requests (23).csv\n",
      "wb запросы старое-2/3month/requests (26).csv\n",
      "wb запросы старое-2/3month/requests (29).csv\n",
      "wb запросы старое-2/3month/requests (32).csv\n",
      "wb запросы старое-2/3month/requests (5).csv\n",
      "wb запросы старое-2/3month/requests (8).csv\n"
     ]
    },
    {
     "data": {
      "text/plain": [
       "[['requests (11).csv', '2022-08-12'],\n",
       " ['requests (14).csv', '2022-08-13'],\n",
       " ['requests (17).csv', '2022-08-14'],\n",
       " ['requests (2).csv', '2022-08-09'],\n",
       " ['requests (20).csv', '2022-08-15'],\n",
       " ['requests (23).csv', '2022-08-16'],\n",
       " ['requests (26).csv', '2022-08-17'],\n",
       " ['requests (29).csv', '2022-08-18'],\n",
       " ['requests (32).csv', '2022-08-19'],\n",
       " ['requests (5).csv', '2022-08-10'],\n",
       " ['requests (8).csv', '2022-08-11']]"
      ]
     },
     "execution_count": 19,
     "metadata": {},
     "output_type": "execute_result"
    }
   ],
   "source": [
    "import os, time\n",
    "from datetime import datetime\n",
    "\n",
    "periods = ['week', 'month', '3month']\n",
    "\n",
    "dir = 'wb запросы старое-2'\n",
    "\n",
    "\n",
    "def get_information(directory):\n",
    "    file_list = []\n",
    "    for i in os.listdir(directory):\n",
    "        a = os.stat(os.path.join(directory,i))\n",
    "        file_list.append([i,time.strftime(f\"%Y-%m-%d\", time.localtime(a.st_mtime))]) #[file,most_recent_access,created]\n",
    "    return file_list\n",
    "\n",
    "\n",
    "for period in periods:\n",
    "    dirList = get_information(f'{dir}/{period}')\n",
    "    for fileData in dirList:\n",
    "        print (f'{dir}/{period}/{fileData[0]}')\n",
    "        os.rename(f'{dir}/{period}/{fileData[0]}', f'data/wbqueries-{period}-{fileData[1]}.csv')\n",
    "\n",
    "\n",
    "dirList\n"
   ]
  },
  {
   "cell_type": "code",
   "execution_count": 7,
   "metadata": {},
   "outputs": [
    {
     "data": {
      "text/plain": [
       "[['requests (1).csv', 1660630490.4472103, 1659930431.4311802],\n",
       " ['requests (10).csv', 1660006747.6865914, 1659930431.3091307],\n",
       " ['requests (3).csv', 1660006749.3174706, 1659930430.1507015],\n",
       " ['requests (7).csv', 1660006750.438873, 1659930431.2016523]]"
      ]
     },
     "execution_count": 7,
     "metadata": {},
     "output_type": "execute_result"
    }
   ],
   "source": [
    "dirList"
   ]
  }
 ],
 "metadata": {
  "kernelspec": {
   "display_name": "Python 3.9.7 ('base')",
   "language": "python",
   "name": "python3"
  },
  "language_info": {
   "codemirror_mode": {
    "name": "ipython",
    "version": 3
   },
   "file_extension": ".py",
   "mimetype": "text/x-python",
   "name": "python",
   "nbconvert_exporter": "python",
   "pygments_lexer": "ipython3",
   "version": "3.9.7"
  },
  "orig_nbformat": 4,
  "vscode": {
   "interpreter": {
    "hash": "19d1d53a962d236aa061289c2ac16dc8e6d9648c89fe79f459ae9a3493bc67b4"
   }
  }
 },
 "nbformat": 4,
 "nbformat_minor": 2
}
