{
 "cells": [
  {
   "cell_type": "code",
   "execution_count": 14,
   "metadata": {},
   "outputs": [
    {
     "name": "stdout",
     "output_type": "stream",
     "text": [
      "index == 0\n",
      "index == 1\n"
     ]
    }
   ],
   "source": [
    "import pandas as pd\n",
    "\n",
    "listDf = ['PopularSearchResults-042022.xlsx', 'PopularSearchResults2-052022.xlsx']\n",
    "\n",
    "\n",
    "try:\n",
    "    del(dfAll) # вдруг я уже запускал и этот датафрейм не пустой - удаляю\n",
    "except:\n",
    "    pass\n",
    "\n",
    "for index, fileName in enumerate(listDf):\n",
    "    df = pd.read_excel(f'{fileName}')\n",
    "    if index == 0:\n",
    "        print (\"index == 0\")\n",
    "        df = df.rename(columns={'Поисковый Запрос': 'запрос', 'Количество запросов': 'количество поисков'})\n",
    "        df['запрос'] = df['запрос'].str.strip()\n",
    "        df = df.groupby('запрос').sum().sort_values('количество поисков', ascending=False).reset_index()\n",
    "        df['date'] = '2022-04'\n",
    "    else:\n",
    "        print (\"index == 1\")\n",
    "        df = df.rename(columns={'Поисковый запрос': 'запрос', 'Количество запросов': 'количество поисков'})\n",
    "        df['запрос'] = df['запрос'].str.strip()\n",
    "        df = df.groupby('запрос').sum().sort_values('количество поисков', ascending=False).reset_index()\n",
    "        df['date'] = '2022-05'\n",
    "    try:\n",
    "        dfAll = pd.concat([dfAll, df], ignore_index=True)\n",
    "    except:\n",
    "        dfAll = df.copy()\n",
    "    # break\n"
   ]
  },
  {
   "cell_type": "code",
   "execution_count": 15,
   "metadata": {},
   "outputs": [
    {
     "name": "stdout",
     "output_type": "stream",
     "text": [
      "index == 0\n",
      "index == 1\n"
     ]
    }
   ],
   "source": [
    "import pandas as pd\n",
    "\n",
    "listDf = ['wbqueries-month-2022-08-05 - вместо 2022-07.csv', 'wbqueries-month-2022-08-22 - вместо 2022-08.csv']\n",
    "\n",
    "\n",
    "for index, fileName in enumerate(listDf):\n",
    "    df = pd.read_csv(f'{fileName}', header=None, names=['запрос', 'количество поисков'])\n",
    "    if index == 0:\n",
    "        print (\"index == 0\")\n",
    "        df['запрос'] = df['запрос'].str.strip()\n",
    "        df = df.groupby('запрос').sum().sort_values('количество поисков', ascending=False).reset_index()\n",
    "        df['date'] = '2022-07'\n",
    "    else:\n",
    "        print (\"index == 1\")\n",
    "        df['запрос'] = df['запрос'].str.strip()\n",
    "        df = df.groupby('запрос').sum().sort_values('количество поисков', ascending=False).reset_index()\n",
    "        df['date'] = '2022-08'\n",
    "    try:\n",
    "        dfAll = pd.concat([dfAll, df], ignore_index=True)\n",
    "    except:\n",
    "        dfAll = df.copy()\n",
    "    # break\n",
    "\n"
   ]
  },
  {
   "cell_type": "code",
   "execution_count": 21,
   "metadata": {},
   "outputs": [],
   "source": [
    "dfPivot = dfAll.pivot(index='запрос', columns='date', values='количество поисков')\n",
    "\n",
    "dfPivot['2022-06'] = (dfPivot['2022-05'] + dfPivot['2022-07']) / 2"
   ]
  },
  {
   "cell_type": "code",
   "execution_count": 23,
   "metadata": {},
   "outputs": [],
   "source": [
    "dfPivot = dfPivot[sorted(dfPivot.columns)]"
   ]
  },
  {
   "cell_type": "code",
   "execution_count": 26,
   "metadata": {},
   "outputs": [],
   "source": [
    "dfPivot = dfPivot.reset_index().dropna()"
   ]
  },
  {
   "cell_type": "code",
   "execution_count": 31,
   "metadata": {},
   "outputs": [],
   "source": [
    "dfPivot.sort_values('2022-08', ascending=False).to_excel('динамика изменения количества запросов.xlsx', index=False)"
   ]
  }
 ],
 "metadata": {
  "kernelspec": {
   "display_name": "Python 3.9.7 ('base')",
   "language": "python",
   "name": "python3"
  },
  "language_info": {
   "codemirror_mode": {
    "name": "ipython",
    "version": 3
   },
   "file_extension": ".py",
   "mimetype": "text/x-python",
   "name": "python",
   "nbconvert_exporter": "python",
   "pygments_lexer": "ipython3",
   "version": "3.9.7"
  },
  "orig_nbformat": 4,
  "vscode": {
   "interpreter": {
    "hash": "19d1d53a962d236aa061289c2ac16dc8e6d9648c89fe79f459ae9a3493bc67b4"
   }
  }
 },
 "nbformat": 4,
 "nbformat_minor": 2
}
