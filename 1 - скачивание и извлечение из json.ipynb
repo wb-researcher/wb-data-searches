{
 "cells": [
  {
   "cell_type": "code",
   "execution_count": null,
   "metadata": {},
   "outputs": [],
   "source": [
    "# curl 'https://trending-searches.wb.ru/file?period=week' \\\n",
    "#   -H 'authority: trending-searches.wb.ru' \\\n",
    "#   -H 'accept: */*' \\\n",
    "#   -H 'accept-language: en-US,en;q=0.9,ru;q=0.8' \\\n",
    "#   -H 'content-type: application/json' \\\n",
    "#   -H 'origin: https://seller.wildberries.ru' \\\n",
    "#   -H 'referer: https://seller.wildberries.ru/' \\\n",
    "#   -H 'sec-ch-ua: \"Chromium\";v=\"105\", \"Microsoft Edge\";v=\"106\", \"Not;A=Brand\";v=\"99\"' \\\n",
    "#   -H 'sec-ch-ua-mobile: ?0' \\\n",
    "#   -H 'sec-ch-ua-platform: \"Windows\"' \\\n",
    "#   -H 'sec-fetch-dest: empty' \\\n",
    "#   -H 'sec-fetch-mode: cors' \\\n",
    "#   -H 'sec-fetch-site: cross-site' \\\n",
    "#   -H 'user-agent: Mozilla/5.0 (Windows NT 10.0; Win64; x64) AppleWebKit/537.36 (KHTML, like Gecko) Chrome/105.0.0.0 Safari/537.36 Edg/106.0.1349.1' \\\n",
    "#   --compressed"
   ]
  },
  {
   "cell_type": "code",
   "execution_count": 11,
   "metadata": {},
   "outputs": [],
   "source": [
    "import json, urllib.request\n",
    "import base64\n",
    "\n",
    "import datetime\n",
    "\n",
    "date = str(datetime.date.today())\n",
    "\n",
    "periods = ['week', 'month', '3month']\n",
    "\n",
    "for period in periods:\n",
    "    print (f'downloading ... {period}')\n",
    "    js = json.load(urllib.request.urlopen(f'https://trending-searches.wb.ru/file?period={period}'))\n",
    "    if (js['error'] == False):\n",
    "        data = base64.b64decode(js['data']['file'])\n",
    "        fp = open(f\"wbqueries-{period}-{date}.csv\", \"wb\")\n",
    "        fp.write(data)\n",
    "    else:\n",
    "        print (f'ERROR downloading ... {period}')\n"
   ]
  }
 ],
 "metadata": {
  "kernelspec": {
   "display_name": "Python 3.9.7 ('base')",
   "language": "python",
   "name": "python3"
  },
  "language_info": {
   "codemirror_mode": {
    "name": "ipython",
    "version": 3
   },
   "file_extension": ".py",
   "mimetype": "text/x-python",
   "name": "python",
   "nbconvert_exporter": "python",
   "pygments_lexer": "ipython3",
   "version": "3.9.7"
  },
  "orig_nbformat": 4,
  "vscode": {
   "interpreter": {
    "hash": "19d1d53a962d236aa061289c2ac16dc8e6d9648c89fe79f459ae9a3493bc67b4"
   }
  }
 },
 "nbformat": 4,
 "nbformat_minor": 2
}
