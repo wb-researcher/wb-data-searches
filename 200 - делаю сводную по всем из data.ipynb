{
 "cells": [
  {
   "cell_type": "code",
   "execution_count": 29,
   "metadata": {},
   "outputs": [],
   "source": [
    "import os\n",
    "from sys import prefix\n",
    "import pandas as pd\n",
    "\n",
    "dirList = os.listdir('data')\n",
    "\n",
    "try:\n",
    "    del(dfAll) # вдруг я уже запускал и этот датафрейм не пустой - удаляю\n",
    "except:\n",
    "    pass\n",
    "\n",
    "prefix = 'wbqueries-week-'\n",
    "days = 7\n",
    "\n",
    "# prefix = 'wbqueries-month-'\n",
    "# days = 30\n",
    "\n",
    "# prefix = 'wbqueries-3month-'\n",
    "# days = 90\n",
    "\n",
    "\n",
    "for index, fileName in enumerate(dirList):\n",
    "    if (fileName.startswith(prefix)):\n",
    "        df = pd.read_csv(f'data/{fileName}', header=None, names=['запрос', 'количество поисков'])\n",
    "        df['запрос'] = df['запрос'].str.strip()\n",
    "        df = df.groupby('запрос').sum().sort_values('количество поисков', ascending=False).reset_index()\n",
    "        date = fileName.removeprefix(prefix).removesuffix('.csv')\n",
    "        df['date'] = date\n",
    "        df['количество поисков'] = df['количество поисков']/days\n",
    "        try:\n",
    "            dfAll = pd.concat([dfAll, df], ignore_index=True)\n",
    "        except:\n",
    "            dfAll = df.copy()\n",
    "        # if (index == 31):\n",
    "        #     break"
   ]
  },
  {
   "cell_type": "code",
   "execution_count": 30,
   "metadata": {},
   "outputs": [],
   "source": [
    "dfPivot = dfAll.pivot(index='запрос', columns='date', values='количество поисков')\n",
    "# .to_excel('сводная по неделям.xlsx', index=False)\n",
    "\n",
    "# del(dfAll)"
   ]
  },
  {
   "cell_type": "code",
   "execution_count": 22,
   "metadata": {},
   "outputs": [
    {
     "data": {
      "text/plain": [
       "date\n",
       "2022-08-05    49.831073\n",
       "2022-08-06    50.303731\n",
       "2022-08-07    50.733555\n",
       "2022-08-08    51.200496\n",
       "2022-08-09    51.770334\n",
       "2022-08-10    52.367829\n",
       "2022-08-11    52.978615\n",
       "2022-08-12    53.491024\n",
       "2022-08-13    54.045099\n",
       "2022-08-14    54.296655\n",
       "2022-08-15    54.666101\n",
       "2022-08-16    55.020490\n",
       "2022-08-17    55.428663\n",
       "2022-08-18    55.286824\n",
       "2022-08-19    55.637078\n",
       "dtype: float64"
      ]
     },
     "execution_count": 22,
     "metadata": {},
     "output_type": "execute_result"
    }
   ],
   "source": [
    "dfPivot.mean()"
   ]
  },
  {
   "cell_type": "code",
   "execution_count": 18,
   "metadata": {},
   "outputs": [],
   "source": [
    "dfPivot2 = dfPivot[dfPivot['2022-08-19'] > 100]\n",
    "\n",
    "dfPivot2.to_excel('сводная по неделям.xlsx')"
   ]
  },
  {
   "cell_type": "code",
   "execution_count": 31,
   "metadata": {},
   "outputs": [],
   "source": [
    "# dfPivot2 = dfPivot[dfPivot['2022-08-19'] > 100]\n",
    "\n",
    "# dfPivot2.to_excel('сводная по месяцам.xlsx')"
   ]
  }
 ],
 "metadata": {
  "kernelspec": {
   "display_name": "Python 3.9.7 ('base')",
   "language": "python",
   "name": "python3"
  },
  "language_info": {
   "codemirror_mode": {
    "name": "ipython",
    "version": 3
   },
   "file_extension": ".py",
   "mimetype": "text/x-python",
   "name": "python",
   "nbconvert_exporter": "python",
   "pygments_lexer": "ipython3",
   "version": "3.9.7"
  },
  "orig_nbformat": 4,
  "vscode": {
   "interpreter": {
    "hash": "19d1d53a962d236aa061289c2ac16dc8e6d9648c89fe79f459ae9a3493bc67b4"
   }
  }
 },
 "nbformat": 4,
 "nbformat_minor": 2
}
